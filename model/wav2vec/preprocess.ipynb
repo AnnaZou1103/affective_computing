{
 "cells": [
  {
   "cell_type": "code",
   "execution_count": 50,
   "metadata": {},
   "outputs": [],
   "source": [
    "import json"
   ]
  },
  {
   "cell_type": "code",
   "execution_count": 51,
   "metadata": {},
   "outputs": [],
   "source": [
    "RAW_DATASET = '../dataset/chinese_raw_dataset/'\n",
    "OUTPUT = '../dataset/chinese_dataset/'\n",
    "INDEX = '00485_4'"
   ]
  },
  {
   "cell_type": "code",
   "execution_count": 52,
   "metadata": {},
   "outputs": [
    {
     "name": "stdout",
     "output_type": "stream",
     "text": [
      "53\n"
     ]
    }
   ],
   "source": [
    "json_file = RAW_DATASET + INDEX + '.json'\n",
    "\n",
    "with open(json_file, 'r', encoding=\"utf8\") as load_json:\n",
    "    load_dict = json.load(load_json)\n",
    "\n",
    "print(len(load_dict))"
   ]
  },
  {
   "cell_type": "code",
   "execution_count": 53,
   "metadata": {},
   "outputs": [
    {
     "name": "stdout",
     "output_type": "stream",
     "text": [
      "53 53\n",
      "Disappointed {'start_time': 3.34, 'end_time': 8.03}\n"
     ]
    }
   ],
   "source": [
    "labels = []\n",
    "durations = []\n",
    "for sentence in load_dict:\n",
    "    labels.append(sentence['facial emotion'][0])\n",
    "    start_time = sentence['start time']\n",
    "    end_time = sentence['end time']\n",
    "    durations.append({'start_time':start_time, 'end_time':end_time})\n",
    "\n",
    "print(len(labels), len(durations))\n",
    "print(labels[0], durations[0])"
   ]
  },
  {
   "cell_type": "code",
   "execution_count": 54,
   "metadata": {},
   "outputs": [],
   "source": [
    "from pydub import AudioSegment\n",
    " \n",
    "for i, duration in enumerate(durations):\n",
    "    if labels[i] not in ['Neutral', 'Angry', 'Sad', 'Happy']:\n",
    "        if labels[i] in ['Positive']:\n",
    "            labels[i] = 'Happy'\n",
    "        elif labels[i] in ['Disappointed', 'Disgusted']:\n",
    "            labels[i] = 'Sad'\n",
    "        else:\n",
    "            break\n",
    "    \n",
    "    dataDir = RAW_DATASET + INDEX + '.wav'\n",
    "    sound = AudioSegment.from_wav(dataDir)\n",
    "    cut_wav = sound[duration['start_time']*1000 : duration['end_time']*1000]   # 以毫秒为单位截取[begin, end]区间的音频\n",
    "    cut_wav.export(OUTPUT + labels[i] + '/' + INDEX + '_' + str(i) + '.wav', format='wav')   # 存储新的wav文件"
   ]
  },
  {
   "cell_type": "code",
   "execution_count": null,
   "metadata": {},
   "outputs": [],
   "source": []
  }
 ],
 "metadata": {
  "interpreter": {
   "hash": "cf7951b4c3296236920d27fffb3ba5561f6be415b272a9a64a7d3575e786e583"
  },
  "kernelspec": {
   "display_name": "Python 3.7.11 64-bit ('emotion': conda)",
   "language": "python",
   "name": "python3"
  },
  "language_info": {
   "codemirror_mode": {
    "name": "ipython",
    "version": 3
   },
   "file_extension": ".py",
   "mimetype": "text/x-python",
   "name": "python",
   "nbconvert_exporter": "python",
   "pygments_lexer": "ipython3",
   "version": "3.7.11"
  },
  "orig_nbformat": 4
 },
 "nbformat": 4,
 "nbformat_minor": 2
}
